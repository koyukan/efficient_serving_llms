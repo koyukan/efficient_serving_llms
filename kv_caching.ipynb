{
 "cells": [
  {
   "cell_type": "code",
   "execution_count": 213,
   "metadata": {},
   "outputs": [],
   "source": [
    "import matplotlib.pyplot as plt\n",
    "import numpy as np\n",
    "import time\n",
    "import torch\n",
    "from transformers import AutoModelForCausalLM, AutoTokenizer"
   ]
  },
  {
   "cell_type": "code",
   "execution_count": 277,
   "metadata": {},
   "outputs": [],
   "source": [
    "model_name = \"gpt2\"\n",
    "device = torch.device('cuda:0' if torch.cuda.is_available() else 'cpu')\n",
    "tokenizer = AutoTokenizer.from_pretrained(model_name)\n",
    "model = AutoModelForCausalLM.from_pretrained(model_name, device_map=\"auto\")\n",
    "model = model.to(device)"
   ]
  },
  {
   "cell_type": "code",
   "execution_count": 278,
   "metadata": {},
   "outputs": [
    {
     "name": "stdout",
     "output_type": "stream",
     "text": [
      "GPT2LMHeadModel(\n",
      "  (transformer): GPT2Model(\n",
      "    (wte): Embedding(50257, 768)\n",
      "    (wpe): Embedding(1024, 768)\n",
      "    (drop): Dropout(p=0.1, inplace=False)\n",
      "    (h): ModuleList(\n",
      "      (0-11): 12 x GPT2Block(\n",
      "        (ln_1): LayerNorm((768,), eps=1e-05, elementwise_affine=True)\n",
      "        (attn): GPT2Attention(\n",
      "          (c_attn): Conv1D()\n",
      "          (c_proj): Conv1D()\n",
      "          (attn_dropout): Dropout(p=0.1, inplace=False)\n",
      "          (resid_dropout): Dropout(p=0.1, inplace=False)\n",
      "        )\n",
      "        (ln_2): LayerNorm((768,), eps=1e-05, elementwise_affine=True)\n",
      "        (mlp): GPT2MLP(\n",
      "          (c_fc): Conv1D()\n",
      "          (c_proj): Conv1D()\n",
      "          (act): NewGELUActivation()\n",
      "          (dropout): Dropout(p=0.1, inplace=False)\n",
      "        )\n",
      "      )\n",
      "    )\n",
      "    (ln_f): LayerNorm((768,), eps=1e-05, elementwise_affine=True)\n",
      "  )\n",
      "  (lm_head): Linear(in_features=768, out_features=50257, bias=False)\n",
      ")\n"
     ]
    }
   ],
   "source": [
    "print(model)"
   ]
  },
  {
   "cell_type": "code",
   "execution_count": null,
   "metadata": {},
   "outputs": [
    {
     "data": {
      "text/plain": [
       "{'input_ids': tensor([[  464,  2068,  7586, 21831, 11687,   625,   262]], device='cuda:0'),\n",
       " 'attention_mask': tensor([[1, 1, 1, 1, 1, 1, 1]], device='cuda:0')}"
      ]
     },
     "execution_count": 298,
     "metadata": {},
     "output_type": "execute_result"
    }
   ],
   "source": [
    "prompt = \"The quick brown fox jumped over the\"\n",
    "inputs = tokenizer(prompt, return_tensors=\"pt\")\n",
    "inputs = {k: v.to(device) for k, v in inputs.items()}  # Move the entire dictionary to the GPU\n",
    "inputs"
   ]
  },
  {
   "cell_type": "code",
   "execution_count": 299,
   "metadata": {},
   "outputs": [
    {
     "name": "stdout",
     "output_type": "stream",
     "text": [
      "torch.Size([1, 7, 50257])\n"
     ]
    }
   ],
   "source": [
    "with torch.no_grad():\n",
    "    ## We don't want gradient tracking for this, it consumes memory\n",
    "    outputs = model(**inputs)\n",
    "   \n",
    "\n",
    "logits = outputs.logits\n",
    "print(logits.shape)"
   ]
  },
  {
   "cell_type": "code",
   "execution_count": null,
   "metadata": {},
   "outputs": [
    {
     "data": {
      "text/plain": [
       "tensor(13990, device='cuda:0')"
      ]
     },
     "execution_count": 300,
     "metadata": {},
     "output_type": "execute_result"
    }
   ],
   "source": [
    "last_logits = logits[0, -1, :]\n",
    "next_token_id = last_logits.argmax()\n",
    "next_token_id"
   ]
  },
  {
   "cell_type": "code",
   "execution_count": 301,
   "metadata": {},
   "outputs": [
    {
     "data": {
      "text/plain": [
       "' fence'"
      ]
     },
     "execution_count": 301,
     "metadata": {},
     "output_type": "execute_result"
    }
   ],
   "source": [
    "tokenizer.decode(next_token_id)"
   ]
  },
  {
   "cell_type": "code",
   "execution_count": 302,
   "metadata": {},
   "outputs": [
    {
     "data": {
      "text/plain": [
       "[' fence',\n",
       " ' edge',\n",
       " ' railing',\n",
       " ' wall',\n",
       " ' table',\n",
       " ' tree',\n",
       " ' top',\n",
       " ' counter',\n",
       " ' ground',\n",
       " ' side']"
      ]
     },
     "execution_count": 302,
     "metadata": {},
     "output_type": "execute_result"
    }
   ],
   "source": [
    "top_k = torch.topk(last_logits, k=10)\n",
    "tokens = [tokenizer.decode(tk) for tk in top_k.indices]\n",
    "tokens"
   ]
  },
  {
   "cell_type": "code",
   "execution_count": 303,
   "metadata": {},
   "outputs": [],
   "source": [
    "next_inputs = {\n",
    "    \"input_ids\": torch.cat(\n",
    "        [inputs[\"input_ids\"], next_token_id.reshape((1, 1))],\n",
    "        dim=1\n",
    "    ),\n",
    "    \"attention_mask\": torch.cat(\n",
    "        [inputs[\"attention_mask\"], torch.tensor([[1]], device=inputs[\"input_ids\"].device)],\n",
    "        dim=1\n",
    "    ),\n",
    "}"
   ]
  },
  {
   "cell_type": "code",
   "execution_count": 304,
   "metadata": {},
   "outputs": [
    {
     "name": "stdout",
     "output_type": "stream",
     "text": [
      "tensor([[  464,  2068,  7586, 21831, 11687,   625,   262, 13990]],\n",
      "       device='cuda:0') torch.Size([1, 8])\n",
      "tensor([[1, 1, 1, 1, 1, 1, 1, 1]], device='cuda:0') torch.Size([1, 8])\n"
     ]
    }
   ],
   "source": [
    "print(next_inputs[\"input_ids\"],\n",
    "      next_inputs[\"input_ids\"].shape)\n",
    "print(next_inputs[\"attention_mask\"],\n",
    "      next_inputs[\"attention_mask\"].shape)"
   ]
  },
  {
   "cell_type": "code",
   "execution_count": 305,
   "metadata": {},
   "outputs": [],
   "source": [
    "def generate_token(inputs):\n",
    "    with torch.no_grad():\n",
    "        outputs = model(**inputs)\n",
    "\n",
    "    logits = outputs.logits\n",
    "    last_logits = logits[0, -1, :]\n",
    "    next_token_id = last_logits.argmax()\n",
    "    return next_token_id"
   ]
  },
  {
   "cell_type": "code",
   "execution_count": 317,
   "metadata": {},
   "outputs": [
    {
     "name": "stdout",
     "output_type": "stream",
     "text": [
      "0.9440791606903076 s\n",
      "[' fence', ' and', ' ran', ' to', ' the', ' other', ' side', ' of', ' the', ' fence', '.', ' He', ' was', ' about', ' to', ' run', ' when', ' he', ' saw', ' the', ' fox', '.', ' He', ' ran', ' to', ' the', ' other', ' side', ' of', ' the', ' fence', ' and', ' ran', ' to', ' the', ' other', ' side', ' of', ' the', ' fence', '.', ' He', ' ran', ' to', ' the', ' other', ' side', ' of', ' the', ' fence', ' and', ' ran', ' to', ' the', ' other', ' side', ' of', ' the', ' fence', '.', ' He', ' ran', ' to', ' the', ' other', ' side', ' of', ' the', ' fence', ' and', ' ran', ' to', ' the', ' other', ' side', ' of', ' the', ' fence', '.', ' He', ' ran', ' to', ' the', ' other', ' side', ' of', ' the', ' fence', ' and', ' ran', ' to', ' the', ' other', ' side', ' of', ' the', ' fence', '.', ' He', ' ran']\n"
     ]
    }
   ],
   "source": [
    "generated_tokens = []\n",
    "next_inputs = inputs\n",
    "durations_s = []\n",
    "for _ in range(100):\n",
    "    t0 = time.time()\n",
    "    next_token_id = generate_token(next_inputs)\n",
    "    durations_s += [time.time() - t0]\n",
    "    \n",
    "    next_inputs = {\n",
    "        \"input_ids\": torch.cat(\n",
    "            [next_inputs[\"input_ids\"], next_token_id.reshape((1, 1))],\n",
    "            dim=1),\n",
    "        \"attention_mask\": torch.cat(\n",
    "            [next_inputs[\"attention_mask\"], torch.tensor([[1]],device=next_inputs[\"input_ids\"].device)],\n",
    "            dim=1),\n",
    "    }\n",
    "    \n",
    "    next_token = tokenizer.decode(next_token_id)\n",
    "    generated_tokens.append(next_token)\n",
    "\n",
    "print(f\"{sum(durations_s)} s\")\n",
    "print(generated_tokens)"
   ]
  },
  {
   "cell_type": "markdown",
   "metadata": {},
   "source": []
  },
  {
   "cell_type": "code",
   "execution_count": 318,
   "metadata": {},
   "outputs": [
    {
     "data": {
      "image/png": "[encoded data removed]",
      "text/plain": [
       "<Figure size 640x480 with 1 Axes>"
      ]
     },
     "metadata": {},
     "output_type": "display_data"
    }
   ],
   "source": [
    "plt.plot(durations_s)\n",
    "plt.show()"
   ]
  },
  {
   "cell_type": "code",
   "execution_count": 319,
   "metadata": {},
   "outputs": [],
   "source": [
    "def generate_token_with_past(inputs):\n",
    "    with torch.no_grad():\n",
    "        outputs = model(**inputs)\n",
    "\n",
    "    logits = outputs.logits\n",
    "    last_logits = logits[0, -1, :]\n",
    "    next_token_id = last_logits.argmax()\n",
    "    print(next_token_id)\n",
    "    return next_token_id, outputs.past_key_values"
   ]
  },
  {
   "cell_type": "code",
   "execution_count": 320,
   "metadata": {},
   "outputs": [
    {
     "name": "stdout",
     "output_type": "stream",
     "text": [
      "tensor(13990, device='cuda:0')\n",
      "tensor(290, device='cuda:0')\n",
      "tensor(4966, device='cuda:0')\n",
      "tensor(284, device='cuda:0')\n",
      "tensor(262, device='cuda:0')\n",
      "tensor(584, device='cuda:0')\n",
      "tensor(1735, device='cuda:0')\n",
      "tensor(286, device='cuda:0')\n",
      "tensor(262, device='cuda:0')\n",
      "tensor(13990, device='cuda:0')\n",
      "tensor(13, device='cuda:0')\n",
      "tensor(679, device='cuda:0')\n",
      "tensor(373, device='cuda:0')\n",
      "tensor(546, device='cuda:0')\n",
      "tensor(284, device='cuda:0')\n",
      "tensor(1057, device='cuda:0')\n",
      "tensor(618, device='cuda:0')\n",
      "tensor(339, device='cuda:0')\n",
      "tensor(2497, device='cuda:0')\n",
      "tensor(262, device='cuda:0')\n",
      "tensor(21831, device='cuda:0')\n",
      "tensor(13, device='cuda:0')\n",
      "tensor(679, device='cuda:0')\n",
      "tensor(4966, device='cuda:0')\n",
      "tensor(284, device='cuda:0')\n",
      "tensor(262, device='cuda:0')\n",
      "tensor(584, device='cuda:0')\n",
      "tensor(1735, device='cuda:0')\n",
      "tensor(286, device='cuda:0')\n",
      "tensor(262, device='cuda:0')\n",
      "tensor(13990, device='cuda:0')\n",
      "tensor(290, device='cuda:0')\n",
      "tensor(4966, device='cuda:0')\n",
      "tensor(284, device='cuda:0')\n",
      "tensor(262, device='cuda:0')\n",
      "tensor(584, device='cuda:0')\n",
      "tensor(1735, device='cuda:0')\n",
      "tensor(286, device='cuda:0')\n",
      "tensor(262, device='cuda:0')\n",
      "tensor(13990, device='cuda:0')\n",
      "tensor(13, device='cuda:0')\n",
      "tensor(679, device='cuda:0')\n",
      "tensor(4966, device='cuda:0')\n",
      "tensor(284, device='cuda:0')\n",
      "tensor(262, device='cuda:0')\n",
      "tensor(584, device='cuda:0')\n",
      "tensor(1735, device='cuda:0')\n",
      "tensor(286, device='cuda:0')\n",
      "tensor(262, device='cuda:0')\n",
      "tensor(13990, device='cuda:0')\n",
      "tensor(290, device='cuda:0')\n",
      "tensor(4966, device='cuda:0')\n",
      "tensor(284, device='cuda:0')\n",
      "tensor(262, device='cuda:0')\n",
      "tensor(584, device='cuda:0')\n",
      "tensor(1735, device='cuda:0')\n",
      "tensor(286, device='cuda:0')\n",
      "tensor(262, device='cuda:0')\n",
      "tensor(13990, device='cuda:0')\n",
      "tensor(13, device='cuda:0')\n",
      "tensor(679, device='cuda:0')\n",
      "tensor(4966, device='cuda:0')\n",
      "tensor(284, device='cuda:0')\n",
      "tensor(262, device='cuda:0')\n",
      "tensor(584, device='cuda:0')\n",
      "tensor(1735, device='cuda:0')\n",
      "tensor(286, device='cuda:0')\n",
      "tensor(262, device='cuda:0')\n",
      "tensor(13990, device='cuda:0')\n",
      "tensor(290, device='cuda:0')\n",
      "tensor(4966, device='cuda:0')\n",
      "tensor(284, device='cuda:0')\n",
      "tensor(262, device='cuda:0')\n",
      "tensor(584, device='cuda:0')\n",
      "tensor(1735, device='cuda:0')\n",
      "tensor(286, device='cuda:0')\n",
      "tensor(262, device='cuda:0')\n",
      "tensor(13990, device='cuda:0')\n",
      "tensor(13, device='cuda:0')\n",
      "tensor(679, device='cuda:0')\n",
      "tensor(4966, device='cuda:0')\n",
      "tensor(284, device='cuda:0')\n",
      "tensor(262, device='cuda:0')\n",
      "tensor(584, device='cuda:0')\n",
      "tensor(1735, device='cuda:0')\n",
      "tensor(286, device='cuda:0')\n",
      "tensor(262, device='cuda:0')\n",
      "tensor(13990, device='cuda:0')\n",
      "tensor(290, device='cuda:0')\n",
      "tensor(4966, device='cuda:0')\n",
      "tensor(284, device='cuda:0')\n",
      "tensor(262, device='cuda:0')\n",
      "tensor(584, device='cuda:0')\n",
      "tensor(1735, device='cuda:0')\n",
      "tensor(286, device='cuda:0')\n",
      "tensor(262, device='cuda:0')\n",
      "tensor(13990, device='cuda:0')\n",
      "tensor(13, device='cuda:0')\n",
      "tensor(679, device='cuda:0')\n",
      "tensor(4966, device='cuda:0')\n",
      "0.9032471179962158 s\n",
      "[' fence', ' and', ' ran', ' to', ' the', ' other', ' side', ' of', ' the', ' fence', '.', ' He', ' was', ' about', ' to', ' run', ' when', ' he', ' saw', ' the', ' fox', '.', ' He', ' ran', ' to', ' the', ' other', ' side', ' of', ' the', ' fence', ' and', ' ran', ' to', ' the', ' other', ' side', ' of', ' the', ' fence', '.', ' He', ' ran', ' to', ' the', ' other', ' side', ' of', ' the', ' fence', ' and', ' ran', ' to', ' the', ' other', ' side', ' of', ' the', ' fence', '.', ' He', ' ran', ' to', ' the', ' other', ' side', ' of', ' the', ' fence', ' and', ' ran', ' to', ' the', ' other', ' side', ' of', ' the', ' fence', '.', ' He', ' ran', ' to', ' the', ' other', ' side', ' of', ' the', ' fence', ' and', ' ran', ' to', ' the', ' other', ' side', ' of', ' the', ' fence', '.', ' He', ' ran']\n"
     ]
    }
   ],
   "source": [
    "generated_tokens = []\n",
    "next_inputs = inputs\n",
    "durations_cached_s = []\n",
    "for _ in range(100):\n",
    "    t0 = time.time()\n",
    "    next_token_id, past_key_values = \\\n",
    "        generate_token_with_past(next_inputs)\n",
    "    durations_cached_s += [time.time() - t0]\n",
    "    \n",
    "    next_inputs = {\n",
    "        \"input_ids\": next_token_id.reshape((1, 1)),\n",
    "        \"attention_mask\": torch.cat(\n",
    "            [next_inputs[\"attention_mask\"], torch.tensor([[1]],device=next_inputs[\"input_ids\"].device)],\n",
    "            dim=1),\n",
    "        \"past_key_values\": past_key_values,\n",
    "    }\n",
    "    \n",
    "    next_token = tokenizer.decode(next_token_id)\n",
    "    generated_tokens.append(next_token)\n",
    "\n",
    "print(f\"{sum(durations_cached_s)} s\")\n",
    "print(generated_tokens)"
   ]
  },
  {
   "cell_type": "code",
   "execution_count": 321,
   "metadata": {},
   "outputs": [
    {
     "data": {
      "image/png": "[encoded data removed]",
      "text/plain": [
       "<Figure size 640x480 with 1 Axes>"
      ]
     },
     "metadata": {},
     "output_type": "display_data"
    }
   ],
   "source": [
    "plt.plot(durations_s)\n",
    "plt.plot(durations_cached_s)\n",
    "plt.show()"
   ]
  }
 ],
 "metadata": {
  "kernelspec": {
   "display_name": "Python 3",
   "language": "python",
   "name": "python3"
  },
  "language_info": {
   "codemirror_mode": {
    "name": "ipython",
    "version": 3
   },
   "file_extension": ".py",
   "mimetype": "text/x-python",
   "name": "python",
   "nbconvert_exporter": "python",
   "pygments_lexer": "ipython3",
   "version": "3.10.12"
  }
 },
 "nbformat": 4,
 "nbformat_minor": 2
}
