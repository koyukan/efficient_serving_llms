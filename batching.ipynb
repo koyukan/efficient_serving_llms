{
 "cells": [
  {
   "cell_type": "code",
   "execution_count": 25,
   "metadata": {},
   "outputs": [],
   "source": [
    "import matplotlib.pyplot as plt\n",
    "import numpy as np\n",
    "import time\n",
    "import torch\n",
    "from transformers import AutoModelForCausalLM, AutoTokenizer\n",
    "from tqdm import tqdm"
   ]
  },
  {
   "cell_type": "code",
   "execution_count": 26,
   "metadata": {},
   "outputs": [],
   "source": [
    "model_name = \"gpt2\"\n",
    "device = torch.device('cuda:0' if torch.cuda.is_available() else 'cpu')\n",
    "tokenizer = AutoTokenizer.from_pretrained(model_name)\n",
    "model = AutoModelForCausalLM.from_pretrained(model_name, device_map=\"auto\")\n",
    "model = model.to(device)"
   ]
  },
  {
   "cell_type": "code",
   "execution_count": 27,
   "metadata": {},
   "outputs": [
    {
     "data": {
      "text/plain": [
       "{'input_ids': tensor([[  464,  2068,  7586, 21831, 11687,   625,   262]], device='cuda:0'),\n",
       " 'attention_mask': tensor([[1, 1, 1, 1, 1, 1, 1]], device='cuda:0')}"
      ]
     },
     "execution_count": 27,
     "metadata": {},
     "output_type": "execute_result"
    }
   ],
   "source": [
    "prompt = \"The quick brown fox jumped over the\"\n",
    "inputs = tokenizer(prompt, return_tensors=\"pt\")\n",
    "inputs = {k: v.to(device) for k, v in inputs.items()}  # Move the entire dictionary to the GPU\n",
    "inputs"
   ]
  },
  {
   "cell_type": "code",
   "execution_count": 28,
   "metadata": {},
   "outputs": [],
   "source": [
    "def generate_token_with_past(inputs):\n",
    "    with torch.no_grad():\n",
    "        outputs = model(**inputs)\n",
    "\n",
    "    logits = outputs.logits\n",
    "    last_logits = logits[0, -1, :]\n",
    "    next_token_id = last_logits.argmax()\n",
    "    print(next_token_id)\n",
    "    return next_token_id, outputs.past_key_values"
   ]
  },
  {
   "cell_type": "code",
   "execution_count": 29,
   "metadata": {},
   "outputs": [
    {
     "name": "stdout",
     "output_type": "stream",
     "text": [
      "tensor(13990, device='cuda:0')\n",
      "tensor(290, device='cuda:0')\n",
      "tensor(4966, device='cuda:0')\n",
      "tensor(284, device='cuda:0')\n",
      "tensor(262, device='cuda:0')\n",
      "tensor(584, device='cuda:0')\n",
      "tensor(1735, device='cuda:0')\n",
      "tensor(286, device='cuda:0')\n",
      "tensor(262, device='cuda:0')\n",
      "tensor(13990, device='cuda:0')\n",
      "tensor(13, device='cuda:0')\n",
      "tensor(679, device='cuda:0')\n",
      "tensor(373, device='cuda:0')\n",
      "tensor(546, device='cuda:0')\n",
      "tensor(284, device='cuda:0')\n",
      "tensor(1057, device='cuda:0')\n",
      "tensor(618, device='cuda:0')\n",
      "tensor(339, device='cuda:0')\n",
      "tensor(2497, device='cuda:0')\n",
      "tensor(262, device='cuda:0')\n",
      "tensor(21831, device='cuda:0')\n",
      "tensor(13, device='cuda:0')\n",
      "tensor(679, device='cuda:0')\n",
      "tensor(4966, device='cuda:0')\n",
      "tensor(284, device='cuda:0')\n",
      "tensor(262, device='cuda:0')\n",
      "tensor(584, device='cuda:0')\n",
      "tensor(1735, device='cuda:0')\n",
      "tensor(286, device='cuda:0')\n",
      "tensor(262, device='cuda:0')\n",
      "tensor(13990, device='cuda:0')\n",
      "tensor(290, device='cuda:0')\n",
      "tensor(4966, device='cuda:0')\n",
      "tensor(284, device='cuda:0')\n",
      "tensor(262, device='cuda:0')\n",
      "tensor(584, device='cuda:0')\n",
      "tensor(1735, device='cuda:0')\n",
      "tensor(286, device='cuda:0')\n",
      "tensor(262, device='cuda:0')\n",
      "tensor(13990, device='cuda:0')\n",
      "tensor(13, device='cuda:0')\n",
      "tensor(679, device='cuda:0')\n",
      "tensor(4966, device='cuda:0')\n",
      "tensor(284, device='cuda:0')\n",
      "tensor(262, device='cuda:0')\n",
      "tensor(584, device='cuda:0')\n",
      "tensor(1735, device='cuda:0')\n",
      "tensor(286, device='cuda:0')\n",
      "tensor(262, device='cuda:0')\n",
      "tensor(13990, device='cuda:0')\n",
      "tensor(290, device='cuda:0')\n",
      "tensor(4966, device='cuda:0')\n",
      "tensor(284, device='cuda:0')\n",
      "tensor(262, device='cuda:0')\n",
      "tensor(584, device='cuda:0')\n",
      "tensor(1735, device='cuda:0')\n",
      "tensor(286, device='cuda:0')\n",
      "tensor(262, device='cuda:0')\n",
      "tensor(13990, device='cuda:0')\n",
      "tensor(13, device='cuda:0')\n",
      "tensor(679, device='cuda:0')\n",
      "tensor(4966, device='cuda:0')\n",
      "tensor(284, device='cuda:0')\n",
      "tensor(262, device='cuda:0')\n",
      "tensor(584, device='cuda:0')\n",
      "tensor(1735, device='cuda:0')\n",
      "tensor(286, device='cuda:0')\n",
      "tensor(262, device='cuda:0')\n",
      "tensor(13990, device='cuda:0')\n",
      "tensor(290, device='cuda:0')\n",
      "tensor(4966, device='cuda:0')\n",
      "tensor(284, device='cuda:0')\n",
      "tensor(262, device='cuda:0')\n",
      "tensor(584, device='cuda:0')\n",
      "tensor(1735, device='cuda:0')\n",
      "tensor(286, device='cuda:0')\n",
      "tensor(262, device='cuda:0')\n",
      "tensor(13990, device='cuda:0')\n",
      "tensor(13, device='cuda:0')\n",
      "tensor(679, device='cuda:0')\n",
      "tensor(4966, device='cuda:0')\n",
      "tensor(284, device='cuda:0')\n",
      "tensor(262, device='cuda:0')\n",
      "tensor(584, device='cuda:0')\n",
      "tensor(1735, device='cuda:0')\n",
      "tensor(286, device='cuda:0')\n",
      "tensor(262, device='cuda:0')\n",
      "tensor(13990, device='cuda:0')\n",
      "tensor(290, device='cuda:0')\n",
      "tensor(4966, device='cuda:0')\n",
      "tensor(284, device='cuda:0')\n",
      "tensor(262, device='cuda:0')\n",
      "tensor(584, device='cuda:0')\n",
      "tensor(1735, device='cuda:0')\n",
      "tensor(286, device='cuda:0')\n",
      "tensor(262, device='cuda:0')\n",
      "tensor(13990, device='cuda:0')\n",
      "tensor(13, device='cuda:0')\n",
      "tensor(679, device='cuda:0')\n",
      "tensor(4966, device='cuda:0')\n",
      "0.8273382186889648 s\n",
      "[' fence', ' and', ' ran', ' to', ' the', ' other', ' side', ' of', ' the', ' fence', '.', ' He', ' was', ' about', ' to', ' run', ' when', ' he', ' saw', ' the', ' fox', '.', ' He', ' ran', ' to', ' the', ' other', ' side', ' of', ' the', ' fence', ' and', ' ran', ' to', ' the', ' other', ' side', ' of', ' the', ' fence', '.', ' He', ' ran', ' to', ' the', ' other', ' side', ' of', ' the', ' fence', ' and', ' ran', ' to', ' the', ' other', ' side', ' of', ' the', ' fence', '.', ' He', ' ran', ' to', ' the', ' other', ' side', ' of', ' the', ' fence', ' and', ' ran', ' to', ' the', ' other', ' side', ' of', ' the', ' fence', '.', ' He', ' ran', ' to', ' the', ' other', ' side', ' of', ' the', ' fence', ' and', ' ran', ' to', ' the', ' other', ' side', ' of', ' the', ' fence', '.', ' He', ' ran']\n"
     ]
    }
   ],
   "source": [
    "generated_tokens = []\n",
    "next_inputs = inputs\n",
    "durations_cached_s = []\n",
    "for _ in range(100):\n",
    "    t0 = time.time()\n",
    "    next_token_id, past_key_values = \\\n",
    "        generate_token_with_past(next_inputs)\n",
    "    durations_cached_s += [time.time() - t0]\n",
    "    \n",
    "    next_inputs = {\n",
    "        \"input_ids\": next_token_id.reshape((1, 1)),\n",
    "        \"attention_mask\": torch.cat(\n",
    "            [next_inputs[\"attention_mask\"], torch.tensor([[1]],device=next_inputs[\"input_ids\"].device)],\n",
    "            dim=1),\n",
    "        \"past_key_values\": past_key_values,\n",
    "    }\n",
    "    \n",
    "    next_token = tokenizer.decode(next_token_id)\n",
    "    generated_tokens.append(next_token)\n",
    "\n",
    "print(f\"{sum(durations_cached_s)} s\")\n",
    "print(generated_tokens)"
   ]
  },
  {
   "cell_type": "code",
   "execution_count": 30,
   "metadata": {},
   "outputs": [],
   "source": [
    "# Define PAD Token = EOS Token = 50256\n",
    "tokenizer.pad_token = tokenizer.eos_token\n",
    "model.config.pad_token_id = model.config.eos_token_id"
   ]
  },
  {
   "cell_type": "code",
   "execution_count": 31,
   "metadata": {},
   "outputs": [],
   "source": [
    "# pad on the left so we can append new tokens on the right\n",
    "tokenizer.padding_side = \"left\"\n",
    "tokenizer.truncation_side = \"left\""
   ]
  },
  {
   "cell_type": "code",
   "execution_count": 32,
   "metadata": {},
   "outputs": [
    {
     "data": {
      "text/plain": [
       "{'input_ids': tensor([[50256, 50256, 50256, 50256, 50256, 16305,  2731,  2753,   465],\n",
       "         [50256, 50256,   464,  2068,  7586, 21831, 11687,   625,   262],\n",
       "         [   40,   716,   691,   257,  4572,    11,   475,   314,   460]],\n",
       "        device='cuda:0'),\n",
       " 'attention_mask': tensor([[0, 0, 0, 0, 0, 1, 1, 1, 1],\n",
       "         [0, 0, 1, 1, 1, 1, 1, 1, 1],\n",
       "         [1, 1, 1, 1, 1, 1, 1, 1, 1]], device='cuda:0')}"
      ]
     },
     "execution_count": 32,
     "metadata": {},
     "output_type": "execute_result"
    }
   ],
   "source": [
    "# multiple prompts of varying lengths to send\n",
    "# to the model at once\n",
    "prompts = [\n",
    "    \"Samuel takes his\",\n",
    "    \"The quick brown fox jumped over the\",\n",
    "    \"I am only a machine, but I can\",\n",
    "]\n",
    "\n",
    "# note: padding=True ensures the padding token\n",
    "# will be inserted into the tokenized tensors\n",
    "\n",
    "inputs = tokenizer(prompts,padding=True, return_tensors=\"pt\")\n",
    "inputs = {k: v.to(device) for k, v in inputs.items()}  # Move the entire dictionary to the GPU\n",
    "inputs"
   ]
  },
  {
   "cell_type": "code",
   "execution_count": 33,
   "metadata": {},
   "outputs": [
    {
     "name": "stdout",
     "output_type": "stream",
     "text": [
      "input_ids: tensor([[50256, 50256, 50256, 50256, 50256, 16305,  2731,  2753,   465],\n",
      "        [50256, 50256,   464,  2068,  7586, 21831, 11687,   625,   262],\n",
      "        [   40,   716,   691,   257,  4572,    11,   475,   314,   460]],\n",
      "       device='cuda:0')\n",
      "shape: torch.Size([3, 9])\n"
     ]
    }
   ],
   "source": [
    "print(\"input_ids:\", inputs[\"input_ids\"])\n",
    "print(\"shape:\", inputs[\"input_ids\"].shape)"
   ]
  },
  {
   "cell_type": "code",
   "execution_count": 34,
   "metadata": {},
   "outputs": [
    {
     "name": "stdout",
     "output_type": "stream",
     "text": [
      "attention_mask: tensor([[0, 0, 0, 0, 0, 1, 1, 1, 1],\n",
      "        [0, 0, 1, 1, 1, 1, 1, 1, 1],\n",
      "        [1, 1, 1, 1, 1, 1, 1, 1, 1]], device='cuda:0')\n",
      "shape: torch.Size([3, 9])\n"
     ]
    }
   ],
   "source": [
    "print(\"attention_mask:\", inputs[\"attention_mask\"])\n",
    "print(\"shape:\", inputs[\"attention_mask\"].shape)"
   ]
  },
  {
   "cell_type": "code",
   "execution_count": 49,
   "metadata": {},
   "outputs": [
    {
     "data": {
      "text/plain": [
       "tensor([[1, 1, 1,  ..., 1, 2, 3],\n",
       "        [1, 1, 0,  ..., 4, 5, 6],\n",
       "        [0, 1, 2,  ..., 6, 7, 8],\n",
       "        ...,\n",
       "        [0, 1, 2,  ..., 6, 7, 8],\n",
       "        [1, 1, 1,  ..., 1, 2, 3],\n",
       "        [1, 1, 0,  ..., 4, 5, 6]], device='cuda:0')"
      ]
     },
     "execution_count": 49,
     "metadata": {},
     "output_type": "execute_result"
    }
   ],
   "source": [
    "# position_ids tell the transformer the ordinal position\n",
    "# of each token in the input sequence\n",
    "# for single input inference, this is just [0 .. n]\n",
    "# for n tokens, but for batch inference,\n",
    "# we need to 0 out the padding tokens at the start of the sequence\n",
    "attention_mask = inputs[\"attention_mask\"]\n",
    "position_ids = attention_mask.long().cumsum(-1) - 1\n",
    "position_ids.masked_fill_(attention_mask == 0, 1)"
   ]
  },
  {
   "cell_type": "code",
   "execution_count": 50,
   "metadata": {},
   "outputs": [],
   "source": [
    "# same as before, but include the position_ids\n",
    "with torch.no_grad():\n",
    "    outputs = model(position_ids=position_ids, **inputs)\n",
    "logits = outputs.logits"
   ]
  },
  {
   "cell_type": "code",
   "execution_count": 37,
   "metadata": {},
   "outputs": [],
   "source": [
    "last_logits = logits[:, -1, :] \n",
    "next_token_ids = last_logits.argmax(dim=1) "
   ]
  },
  {
   "cell_type": "code",
   "execution_count": 38,
   "metadata": {},
   "outputs": [
    {
     "name": "stdout",
     "output_type": "stream",
     "text": [
      "tensor([ 1295, 13990,   466], device='cuda:0')\n"
     ]
    }
   ],
   "source": [
    "print(next_token_ids)"
   ]
  },
  {
   "cell_type": "code",
   "execution_count": 39,
   "metadata": {},
   "outputs": [
    {
     "data": {
      "text/plain": [
       "[' place', ' fence', ' do']"
      ]
     },
     "execution_count": 39,
     "metadata": {},
     "output_type": "execute_result"
    }
   ],
   "source": [
    "next_tokens = tokenizer.batch_decode(next_token_ids)\n",
    "next_tokens"
   ]
  },
  {
   "cell_type": "code",
   "execution_count": 40,
   "metadata": {},
   "outputs": [],
   "source": [
    "def generate_batch_tokens_with_past(inputs):\n",
    "    with torch.no_grad():\n",
    "        outputs = model(**inputs)\n",
    "\n",
    "    logits = outputs.logits\n",
    "    last_logits = logits[:, -1, :]\n",
    "    next_token_ids = last_logits.argmax(dim=1)\n",
    "    return next_token_ids, outputs.past_key_values"
   ]
  },
  {
   "cell_type": "code",
   "execution_count": 41,
   "metadata": {},
   "outputs": [],
   "source": [
    "def generate_batch(inputs, max_tokens):\n",
    "    # create a list of tokens for every input in the batch\n",
    "    generated_tokens = [\n",
    "        [] for _ in range(inputs[\"input_ids\"].shape[0])\n",
    "    ]\n",
    "\n",
    "    attention_mask = inputs[\"attention_mask\"]\n",
    "    position_ids = attention_mask.long().cumsum(-1) - 1\n",
    "    position_ids.masked_fill_(attention_mask == 0, 1)\n",
    "\n",
    "    next_inputs = {\n",
    "        \"position_ids\": position_ids,\n",
    "        **inputs\n",
    "    }\n",
    "\n",
    "    for _ in range(max_tokens):\n",
    "        next_token_ids, past_key_values = \\\n",
    "            generate_batch_tokens_with_past(next_inputs)\n",
    "\n",
    "        next_inputs = {\n",
    "            \"input_ids\": next_token_ids.reshape((-1, 1)),\n",
    "            \"position_ids\": next_inputs[\"position_ids\"][:, -1].unsqueeze(-1) + 1,\n",
    "            \"attention_mask\": torch.cat([\n",
    "                next_inputs[\"attention_mask\"],\n",
    "                torch.ones((next_token_ids.shape[0], 1), device=next_inputs[\"input_ids\"].device),  \n",
    "            ], dim=1),\n",
    "            \"past_key_values\": past_key_values,\n",
    "        }\n",
    "\n",
    "        next_tokens = tokenizer.batch_decode(next_token_ids)\n",
    "        for i, token in enumerate(next_tokens):\n",
    "            generated_tokens[i].append(token)\n",
    "    return [\"\".join(tokens) for tokens in generated_tokens]"
   ]
  },
  {
   "cell_type": "code",
   "execution_count": 51,
   "metadata": {},
   "outputs": [],
   "source": [
    "generated_tokens = generate_batch(inputs, max_tokens=10)"
   ]
  },
  {
   "cell_type": "code",
   "execution_count": 52,
   "metadata": {},
   "outputs": [
    {
     "name": "stdout",
     "output_type": "stream",
     "text": [
      "Samuel takes his \u001b[31m place in the middle of the room, and the\u001b[0m\n",
      "\n",
      "The quick brown fox jumped over the \u001b[31m fence and ran to the other side of the fence\u001b[0m\n",
      "\n",
      "I am only a machine, but I can \u001b[31m do it. I am a machine, but I\u001b[0m\n",
      "\n"
     ]
    }
   ],
   "source": [
    "for prompt, generated in zip(prompts, generated_tokens):\n",
    "    print(prompt, f\"\\x1b[31m{generated}\\x1b[0m\\n\")"
   ]
  },
  {
   "cell_type": "code",
   "execution_count": 44,
   "metadata": {},
   "outputs": [
    {
     "name": "stdout",
     "output_type": "stream",
     "text": [
      "bs= 1\n",
      "duration 0.10645127296447754\n",
      "throughput 93.93969392303057\n",
      "avg latency 0.010645127296447754\n",
      "\n",
      "bs= 2\n",
      "duration 0.08281540870666504\n",
      "throughput 241.50095148163396\n",
      "avg latency 0.008281540870666505\n",
      "\n",
      "bs= 4\n",
      "duration 0.08835387229919434\n",
      "throughput 452.72492262192276\n",
      "avg latency 0.008835387229919434\n",
      "\n",
      "bs= 8\n",
      "duration 0.10146856307983398\n",
      "throughput 788.4215324608191\n",
      "avg latency 0.010146856307983398\n",
      "\n",
      "bs= 16\n",
      "duration 0.10391855239868164\n",
      "throughput 1539.667328949723\n",
      "avg latency 0.010391855239868164\n",
      "\n",
      "bs= 32\n",
      "duration 0.12076401710510254\n",
      "throughput 2649.7959215906153\n",
      "avg latency 0.012076401710510254\n",
      "\n",
      "bs= 64\n",
      "duration 0.17882633209228516\n",
      "throughput 3578.8912768714704\n",
      "avg latency 0.017882633209228515\n",
      "\n",
      "bs= 128\n",
      "duration 0.31896495819091797\n",
      "throughput 4012.980006517989\n",
      "avg latency 0.0318964958190918\n",
      "\n"
     ]
    }
   ],
   "source": [
    "# constants\n",
    "max_tokens = 10\n",
    "\n",
    "# observations\n",
    "durations = []\n",
    "throughputs = []\n",
    "latencies = []\n",
    "\n",
    "batch_sizes = [2**p for p in range(8)]\n",
    "for batch_size in batch_sizes:\n",
    "    print(f\"bs= {batch_size}\")\n",
    "\n",
    "    # generate tokens for batch and record duration\n",
    "    t0 = time.time()\n",
    "    batch_prompts = [\n",
    "        prompts[i % len(prompts)] for i in range(batch_size)\n",
    "    ]\n",
    "    inputs = tokenizer(\n",
    "        batch_prompts, padding=True, return_tensors=\"pt\"\n",
    "    )\n",
    "    inputs = {k: v.to(device) for k, v in inputs.items()}  # Move the entire dictionary to the GPU\n",
    "    \n",
    "    generated_tokens = generate_batch(inputs, max_tokens=max_tokens)\n",
    "    duration_s = time.time() - t0\n",
    "\n",
    "    ntokens = batch_size * max_tokens\n",
    "    throughput = ntokens / duration_s\n",
    "    avg_latency = duration_s / max_tokens\n",
    "    print(\"duration\", duration_s)\n",
    "    print(\"throughput\", throughput)\n",
    "    print(\"avg latency\", avg_latency)    \n",
    "    print()\n",
    "\n",
    "    durations.append(duration_s)\n",
    "    throughputs.append(throughput)\n",
    "    latencies.append(avg_latency)"
   ]
  },
  {
   "cell_type": "code",
   "execution_count": 45,
   "metadata": {},
   "outputs": [],
   "source": [
    "def render_plot(x, y1, y2, x_label, y1_label, y2_label):\n",
    "    # Create a figure and a set of subplots\n",
    "    fig, ax1 = plt.subplots()\n",
    "\n",
    "    # Plot the first line (throughput)\n",
    "    color = 'tab:red'\n",
    "    ax1.set_xlabel(x_label)\n",
    "    ax1.set_ylabel(y1_label, color=color)\n",
    "    ax1.plot(x, y1, color=color)\n",
    "    ax1.tick_params(axis='y', labelcolor=color)\n",
    "\n",
    "    # Set the x-axis to be log-scaled\n",
    "    ax1.set_xscale('log', base=2)\n",
    "\n",
    "    # Instantiate a second axes that shares the same x-axis\n",
    "    ax2 = ax1.twinx()  \n",
    "    color = 'tab:blue'\n",
    "    ax2.set_ylabel(y2_label, color=color)  # we already handled the x-label with ax1\n",
    "    ax2.plot(x, y2, color=color)\n",
    "    ax2.tick_params(axis='y', labelcolor=color)\n",
    "\n",
    "    plt.show()"
   ]
  },
  {
   "cell_type": "code",
   "execution_count": 46,
   "metadata": {},
   "outputs": [],
   "source": [
    "def render_plot(x, y1, y2, x_label, y1_label, y2_label):\n",
    "    # Create a figure and a set of subplots\n",
    "    fig, ax1 = plt.subplots()\n",
    "\n",
    "    # Plot the first line (throughput)\n",
    "    color = 'tab:red'\n",
    "    ax1.set_xlabel(x_label)\n",
    "    ax1.set_ylabel(y1_label, color=color)\n",
    "    ax1.plot(x, y1, color=color)\n",
    "    ax1.tick_params(axis='y', labelcolor=color)\n",
    "\n",
    "    # Set the x-axis to be log-scaled\n",
    "    ax1.set_xscale('log', base=2)\n",
    "\n",
    "    # Instantiate a second axes that shares the same x-axis\n",
    "    ax2 = ax1.twinx()  \n",
    "    color = 'tab:blue'\n",
    "    ax2.set_ylabel(y2_label, color=color)  # we already handled the x-label with ax1\n",
    "    ax2.plot(x, y2, color=color)\n",
    "    ax2.tick_params(axis='y', labelcolor=color)\n",
    "\n",
    "    plt.show()"
   ]
  },
  {
   "cell_type": "code",
   "execution_count": 47,
   "metadata": {},
   "outputs": [
    {
     "data": {
      "image/png": "[encoded data removed]",
      "text/plain": [
       "<Figure size 640x480 with 2 Axes>"
      ]
     },
     "metadata": {},
     "output_type": "display_data"
    }
   ],
   "source": [
    "render_plot(\n",
    "    batch_sizes,\n",
    "    throughputs,\n",
    "    latencies,\n",
    "    \"Batch Size\",\n",
    "    \"Throughput\",\n",
    "    \"Latency\"\n",
    ")"
   ]
  }
 ],
 "metadata": {
  "kernelspec": {
   "display_name": ".venv",
   "language": "python",
   "name": "python3"
  },
  "language_info": {
   "codemirror_mode": {
    "name": "ipython",
    "version": 3
   },
   "file_extension": ".py",
   "mimetype": "text/x-python",
   "name": "python",
   "nbconvert_exporter": "python",
   "pygments_lexer": "ipython3",
   "version": "3.10.12"
  }
 },
 "nbformat": 4,
 "nbformat_minor": 2
}
